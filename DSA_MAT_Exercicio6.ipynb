{
  "cells": [
    {
      "cell_type": "markdown",
      "metadata": {
        "id": "view-in-github",
        "colab_type": "text"
      },
      "source": [
        "<a href=\"https://colab.research.google.com/github/tiago-luisi/Mathematics-Statistics-DS-AI/blob/main/DSA_MAT_Exercicio6.ipynb\" target=\"_parent\"><img src=\"https://colab.research.google.com/assets/colab-badge.svg\" alt=\"Open In Colab\"/></a>"
      ]
    },
    {
      "cell_type": "markdown",
      "metadata": {
        "id": "yP3QGevmLk87"
      },
      "source": [
        "<!-- Projeto Desenvolvido na Data Science Academy - www.datascienceacademy.com.br -->\n",
        "# <font color='white'>Data Science Academy</font>\n",
        "## <font color='white'>Matemática e Estatística Aplicada Para Data Science, Machine Learning e IA</font>\n",
        "## <font color='white'>Lista de Exercícios 6</font>\n",
        "## <font color='white'>Operações com Matrizes e Programação Python</font>"
      ]
    },
    {
      "cell_type": "markdown",
      "metadata": {
        "id": "L1TmTb1jLk88"
      },
      "source": [
        "### Instalando e Carregando Pacotes"
      ]
    },
    {
      "cell_type": "code",
      "execution_count": null,
      "metadata": {
        "id": "dzRcGyogLk88"
      },
      "outputs": [],
      "source": [
        "# Para atualizar um pacote, execute o comando abaixo no terminal ou prompt de comando:\n",
        "# pip install -U nome_pacote\n",
        "\n",
        "# Para instalar a versão exata de um pacote, execute o comando abaixo no terminal ou prompt de comando:\n",
        "# !pip install nome_pacote==versão_desejada\n",
        "\n",
        "# Depois de instalar ou atualizar o pacote, reinicie o jupyter notebook.\n",
        "\n",
        "# Instala o pacote watermark.\n",
        "# Esse pacote é usado para gravar as versões de outros pacotes usados neste jupyter notebook.\n",
        "!pip install -q -U watermark"
      ]
    },
    {
      "cell_type": "code",
      "execution_count": null,
      "metadata": {
        "id": "VgnzugnlLk88"
      },
      "outputs": [],
      "source": [
        "# Imports\n",
        "import numpy as np"
      ]
    },
    {
      "cell_type": "code",
      "execution_count": null,
      "metadata": {
        "id": "wzUqn0VXLk88",
        "outputId": "f025306c-c2d1-4440-f060-fced46915d06"
      },
      "outputs": [
        {
          "name": "stdout",
          "output_type": "stream",
          "text": [
            "Author: Data Science Academy\n",
            "\n"
          ]
        }
      ],
      "source": [
        "# Versões dos pacotes usados neste jupyter notebook\n",
        "%reload_ext watermark\n",
        "%watermark -a \"Data Science Academy\""
      ]
    },
    {
      "cell_type": "markdown",
      "metadata": {
        "id": "xZtJPBTmLk89"
      },
      "source": [
        "**Resolva os exercícios abaixo usando Linguagem Python. Faça pesquisa complementar se necessário.**"
      ]
    },
    {
      "cell_type": "code",
      "execution_count": null,
      "metadata": {
        "id": "VcYEy30tLk89"
      },
      "outputs": [],
      "source": [
        "# Criando duas matrizes de exemplo\n",
        "matriz1 = [[1, 2, 3], [0, 1, 4], [5, 6, 0]]\n",
        "matriz2 = [[5, 2, 8], [3, 1, 2], [7, 0, 2]]"
      ]
    },
    {
      "cell_type": "code",
      "execution_count": null,
      "metadata": {
        "id": "0wGWmsXwLk89",
        "outputId": "5222fc7c-2fad-4a0c-d566-1ede05c4057e"
      },
      "outputs": [
        {
          "name": "stdout",
          "output_type": "stream",
          "text": [
            "[[1, 2, 3], [0, 1, 4], [5, 6, 0]]\n"
          ]
        }
      ],
      "source": [
        "print(matriz1)"
      ]
    },
    {
      "cell_type": "code",
      "execution_count": null,
      "metadata": {
        "id": "GrQ_7_nBLk89",
        "outputId": "4f201c77-4d5c-418d-fb97-d85a6d9cb6fc"
      },
      "outputs": [
        {
          "name": "stdout",
          "output_type": "stream",
          "text": [
            "[[5, 2, 8], [3, 1, 2], [7, 0, 2]]\n"
          ]
        }
      ],
      "source": [
        "print(matriz2)"
      ]
    },
    {
      "cell_type": "markdown",
      "metadata": {
        "id": "og5_PitBLk89"
      },
      "source": [
        "###  Exercício 1: Soma de Matrizes\n",
        "\n",
        "Escreva um programa em Python que soma duas matrizes de mesmo tamanho. As matrizes devem ser lidas como listas de listas e o resultado deve ser exibido na tela. Apresente a solução com e sem o uso do NumPy. Pratique suas habilidades de programação ao mesmo tempo que estuda Matemática."
      ]
    },
    {
      "cell_type": "code",
      "execution_count": null,
      "metadata": {
        "id": "QVEFCx6nLk89"
      },
      "outputs": [],
      "source": [
        "# Com NumPy - Versão 1 (mais simples de todas)\n",
        "def dsa_soma_matrizes_v1(m1, m2):\n",
        "    return np.array(m1) + np.array(m2)"
      ]
    },
    {
      "cell_type": "code",
      "execution_count": null,
      "metadata": {
        "id": "YXBUMd3ILk89",
        "outputId": "11a6870f-a427-40e0-959a-27cea4f74ed0"
      },
      "outputs": [
        {
          "data": {
            "text/plain": [
              "array([[ 6,  4, 11],\n",
              "       [ 3,  2,  6],\n",
              "       [12,  6,  2]])"
            ]
          },
          "execution_count": 8,
          "metadata": {},
          "output_type": "execute_result"
        }
      ],
      "source": [
        "dsa_soma_matrizes_v1(matriz1, matriz2)"
      ]
    },
    {
      "cell_type": "code",
      "execution_count": null,
      "metadata": {
        "id": "ACa-NB7ILk89"
      },
      "outputs": [],
      "source": [
        "# Com NumPy - Versão 2\n",
        "def dsa_soma_matrizes_v2(A, B):\n",
        "\n",
        "    A_np = np.array(A)\n",
        "    B_np = np.array(B)\n",
        "\n",
        "    return A_np + B_np"
      ]
    },
    {
      "cell_type": "code",
      "execution_count": null,
      "metadata": {
        "id": "A3qoH6s7Lk89",
        "outputId": "814e1e8c-10f9-428d-c2de-291db28e7b21"
      },
      "outputs": [
        {
          "data": {
            "text/plain": [
              "array([[ 6,  4, 11],\n",
              "       [ 3,  2,  6],\n",
              "       [12,  6,  2]])"
            ]
          },
          "execution_count": 10,
          "metadata": {},
          "output_type": "execute_result"
        }
      ],
      "source": [
        "dsa_soma_matrizes_v2(matriz1, matriz2)"
      ]
    },
    {
      "cell_type": "code",
      "execution_count": null,
      "metadata": {
        "id": "D0gJzRa0Lk8-"
      },
      "outputs": [],
      "source": [
        "# Sem NumPy - Versão 3\n",
        "def dsa_soma_matrizes_v3(m1, m2):\n",
        "\n",
        "    # Verifica se as matrizes têm o mesmo número de linhas e colunas\n",
        "    if len(m1) != len(m2) or len(m1[0]) != len(m2[0]):\n",
        "\n",
        "        # Retorna uma mensagem de erro se as matrizes não tiverem o mesmo tamanho\n",
        "        return \"As matrizes devem ter o mesmo tamanho\"\n",
        "\n",
        "    # Inicializa a matriz de resultado como uma lista vazia\n",
        "    resultado = []\n",
        "\n",
        "    # Loop através de cada linha da matriz\n",
        "    for i in range(len(m1)):\n",
        "\n",
        "        # Inicializa uma nova linha para a matriz de resultado\n",
        "        linha = []\n",
        "\n",
        "        # Loop através de cada coluna da linha atual\n",
        "        for j in range(len(m1[0])):\n",
        "\n",
        "            # Soma os elementos correspondentes das duas matrizes e adiciona à linha\n",
        "            linha.append(m1[i][j] + m2[i][j])\n",
        "\n",
        "        # Adiciona a linha recém-calculada à matriz de resultado\n",
        "        resultado.append(linha)\n",
        "\n",
        "    # Retorna a matriz de resultado após somar todos os elementos\n",
        "    return resultado"
      ]
    },
    {
      "cell_type": "code",
      "execution_count": null,
      "metadata": {
        "id": "bstWFQFqLk8-",
        "outputId": "f002d26d-7681-4439-d9e6-5f92d612235b"
      },
      "outputs": [
        {
          "data": {
            "text/plain": [
              "[[6, 4, 11], [3, 2, 6], [12, 6, 2]]"
            ]
          },
          "execution_count": 12,
          "metadata": {},
          "output_type": "execute_result"
        }
      ],
      "source": [
        "dsa_soma_matrizes_v3(matriz1, matriz2)"
      ]
    },
    {
      "cell_type": "code",
      "execution_count": null,
      "metadata": {
        "id": "xQL6_uO4Lk8-"
      },
      "outputs": [],
      "source": [
        "# Sem NumPy - Versão 4 (mais complexa)\n",
        "def dsa_soma_matrizes_v4(A, B):\n",
        "\n",
        "    if len(A) != len(B) or len(A[0]) != len(B[0]):\n",
        "\n",
        "        return \"Matrizes de tamanhos diferentes\"\n",
        "\n",
        "    return [[A[i][j] + B[i][j] for j in range(len(A[0]))] for i in range(len(A))]"
      ]
    },
    {
      "cell_type": "code",
      "execution_count": null,
      "metadata": {
        "id": "h61fH9p1Lk8-",
        "outputId": "a2ba34cd-c20d-4f20-b5d6-0aba0fe2c25e"
      },
      "outputs": [
        {
          "data": {
            "text/plain": [
              "[[6, 4, 11], [3, 2, 6], [12, 6, 2]]"
            ]
          },
          "execution_count": 14,
          "metadata": {},
          "output_type": "execute_result"
        }
      ],
      "source": [
        "dsa_soma_matrizes_v4(matriz1, matriz2)"
      ]
    },
    {
      "cell_type": "markdown",
      "metadata": {
        "id": "qW870eR1Lk8-"
      },
      "source": [
        "### Exercício 2: Multiplicação de Matrizes\n",
        "\n",
        "Implemente uma função em Python que multiplica duas matrizes. Verifique se as dimensões das matrizes são compatíveis para a multiplicação e retorne a matriz resultante. Apresente a solução com e sem o uso do NumPy. Pratique suas habilidades de programação ao mesmo tempo que estuda Matemática."
      ]
    },
    {
      "cell_type": "code",
      "execution_count": null,
      "metadata": {
        "id": "XDbEnDHCLk8-"
      },
      "outputs": [],
      "source": [
        "# Sem NumPy - Versão 1 (mais complexa)\n",
        "def dsa_multiplica_matrizes_v1(A, B):\n",
        "\n",
        "    if len(A[0]) != len(B):\n",
        "\n",
        "        return \"Matrizes com dimensões incompatíveis para multiplicação\"\n",
        "\n",
        "    return [[sum(A[i][k] * B[k][j] for k in range(len(B))) for j in range(len(B[0]))] for i in range(len(A))]"
      ]
    },
    {
      "cell_type": "code",
      "execution_count": null,
      "metadata": {
        "id": "lxibF07dLk8-",
        "outputId": "66030e92-a4a1-4d9e-958c-1c86670e2ddf"
      },
      "outputs": [
        {
          "data": {
            "text/plain": [
              "[[32, 4, 18], [31, 1, 10], [43, 16, 52]]"
            ]
          },
          "execution_count": 16,
          "metadata": {},
          "output_type": "execute_result"
        }
      ],
      "source": [
        "dsa_multiplica_matrizes_v1(matriz1, matriz2)"
      ]
    },
    {
      "cell_type": "code",
      "execution_count": null,
      "metadata": {
        "id": "0stfrkmgLk8-"
      },
      "outputs": [],
      "source": [
        "# Sem NumPy - Versão 2\n",
        "def dsa_multiplica_matrizes_v2(m1, m2):\n",
        "\n",
        "    if len(m1[0]) != len(m2):\n",
        "\n",
        "        return \"As matrizes não são compatíveis para a multiplicação\"\n",
        "\n",
        "    resultado = []\n",
        "\n",
        "    for i in range(len(m1)):\n",
        "\n",
        "        linha = []\n",
        "\n",
        "        for j in range(len(m2[0])):\n",
        "\n",
        "            soma = 0\n",
        "\n",
        "            for k in range(len(m2)):\n",
        "\n",
        "                soma += m1[i][k] * m2[k][j]\n",
        "\n",
        "            linha.append(soma)\n",
        "\n",
        "        resultado.append(linha)\n",
        "\n",
        "    return resultado"
      ]
    },
    {
      "cell_type": "code",
      "execution_count": null,
      "metadata": {
        "id": "jy9Da-PQLk8-",
        "outputId": "5b372c38-d3c1-45bb-eb04-a0a879ce178f"
      },
      "outputs": [
        {
          "data": {
            "text/plain": [
              "[[32, 4, 18], [31, 1, 10], [43, 16, 52]]"
            ]
          },
          "execution_count": 18,
          "metadata": {},
          "output_type": "execute_result"
        }
      ],
      "source": [
        "dsa_multiplica_matrizes_v2(matriz1, matriz2)"
      ]
    },
    {
      "cell_type": "code",
      "execution_count": null,
      "metadata": {
        "id": "P7Cpcl2qLk8-"
      },
      "outputs": [],
      "source": [
        "# Com NumPy - Versão 3\n",
        "def dsa_multiplica_matrizes_v3(A, B):\n",
        "\n",
        "    A_np = np.array(A)\n",
        "    B_np = np.array(B)\n",
        "\n",
        "    return np.dot(A_np, B_np)"
      ]
    },
    {
      "cell_type": "code",
      "execution_count": null,
      "metadata": {
        "id": "afnPyfEGLk8-",
        "outputId": "db83980f-1958-4c23-9494-a23f8506c48c"
      },
      "outputs": [
        {
          "data": {
            "text/plain": [
              "array([[32,  4, 18],\n",
              "       [31,  1, 10],\n",
              "       [43, 16, 52]])"
            ]
          },
          "execution_count": 20,
          "metadata": {},
          "output_type": "execute_result"
        }
      ],
      "source": [
        "dsa_multiplica_matrizes_v3(matriz1, matriz2)"
      ]
    },
    {
      "cell_type": "code",
      "execution_count": null,
      "metadata": {
        "id": "hIZDD02rLk8-"
      },
      "outputs": [],
      "source": [
        "# Com NumPy - Versão 4 (mais simples)\n",
        "def dsa_multiplica_matrizes_v4(m1, m2):\n",
        "    return np.dot(m1, m2)"
      ]
    },
    {
      "cell_type": "code",
      "execution_count": null,
      "metadata": {
        "id": "sSbWlcDtLk8-",
        "outputId": "3baa270f-4a42-4824-e708-4da294c7eea7"
      },
      "outputs": [
        {
          "data": {
            "text/plain": [
              "array([[32,  4, 18],\n",
              "       [31,  1, 10],\n",
              "       [43, 16, 52]])"
            ]
          },
          "execution_count": 22,
          "metadata": {},
          "output_type": "execute_result"
        }
      ],
      "source": [
        "dsa_multiplica_matrizes_v4(matriz1, matriz2)"
      ]
    },
    {
      "cell_type": "markdown",
      "metadata": {
        "id": "02whPUKuLk8_"
      },
      "source": [
        "### Exercício 3: Transposição de Matriz\n",
        "\n",
        "Crie um programa que calcula a transposta de uma matriz. A matriz deve ser inserida pelo usuário e o programa deve exibir a matriz transposta. Apresente a solução com e sem o uso do NumPy. Pratique suas habilidades de programação ao mesmo tempo que estuda Matemática."
      ]
    },
    {
      "cell_type": "code",
      "execution_count": null,
      "metadata": {
        "id": "k746QmjFLk8_",
        "outputId": "8a487c72-420f-490c-e1ff-573349fd3ea2"
      },
      "outputs": [
        {
          "name": "stdout",
          "output_type": "stream",
          "text": [
            "[[1 2 3]\n",
            " [0 1 4]\n",
            " [5 6 0]]\n"
          ]
        }
      ],
      "source": [
        "print(np.array(matriz1))"
      ]
    },
    {
      "cell_type": "code",
      "execution_count": null,
      "metadata": {
        "id": "4THe7Ia1Lk8_"
      },
      "outputs": [],
      "source": [
        "# Com NumPy\n",
        "def dsa_transposicao_v1(matriz):\n",
        "    return np.transpose(matriz)"
      ]
    },
    {
      "cell_type": "code",
      "execution_count": null,
      "metadata": {
        "id": "4XabHJ4WLk8_",
        "outputId": "2055e9fb-815d-4a85-b15b-9141bee711b9"
      },
      "outputs": [
        {
          "data": {
            "text/plain": [
              "array([[1, 0, 5],\n",
              "       [2, 1, 6],\n",
              "       [3, 4, 0]])"
            ]
          },
          "execution_count": 25,
          "metadata": {},
          "output_type": "execute_result"
        }
      ],
      "source": [
        "dsa_transposicao_v1(matriz1)"
      ]
    },
    {
      "cell_type": "code",
      "execution_count": null,
      "metadata": {
        "id": "59Xvr-alLk8_"
      },
      "outputs": [],
      "source": [
        "# Sem NumPy\n",
        "def dsa_transposicao_v2(matriz):\n",
        "\n",
        "    return [[matriz[j][i] for j in range(len(matriz))] for i in range(len(matriz[0]))]"
      ]
    },
    {
      "cell_type": "code",
      "execution_count": null,
      "metadata": {
        "id": "G0j0vhpWLk8_",
        "outputId": "64bf3bda-7643-446a-ae4a-757a4dab89a3"
      },
      "outputs": [
        {
          "data": {
            "text/plain": [
              "[[1, 0, 5], [2, 1, 6], [3, 4, 0]]"
            ]
          },
          "execution_count": 27,
          "metadata": {},
          "output_type": "execute_result"
        }
      ],
      "source": [
        "dsa_transposicao_v2(matriz1)"
      ]
    },
    {
      "cell_type": "markdown",
      "metadata": {
        "id": "Cb4BKE4xLk8_"
      },
      "source": [
        "### Exercício 4: Traço de uma Matriz\n",
        "\n",
        "Desenvolva um script em Python que calcula o traço de uma matriz (soma dos elementos da diagonal principal). O programa deve funcionar para matrizes quadradas de qualquer tamanho. Apresente a solução com e sem o uso do NumPy. Pratique suas habilidades de programação ao mesmo tempo que estuda Matemática."
      ]
    },
    {
      "cell_type": "markdown",
      "metadata": {
        "id": "A1qrjp_6Lk8_"
      },
      "source": [
        "O traço de uma matriz é a soma dos elementos da diagonal principal da matriz."
      ]
    },
    {
      "cell_type": "code",
      "execution_count": null,
      "metadata": {
        "id": "KhosVWawLk8_",
        "outputId": "1d0d9e91-1c68-43f5-fef9-53fc84fc4c78"
      },
      "outputs": [
        {
          "name": "stdout",
          "output_type": "stream",
          "text": [
            "[[5 2 8]\n",
            " [3 1 2]\n",
            " [7 0 2]]\n"
          ]
        }
      ],
      "source": [
        "print(np.array(matriz2))"
      ]
    },
    {
      "cell_type": "code",
      "execution_count": null,
      "metadata": {
        "id": "KcqOBwGmLk8_",
        "outputId": "6e1a5454-d719-49f9-f0f0-be1ccfd35efd"
      },
      "outputs": [
        {
          "data": {
            "text/plain": [
              "3"
            ]
          },
          "execution_count": 29,
          "metadata": {},
          "output_type": "execute_result"
        }
      ],
      "source": [
        "len(matriz2)"
      ]
    },
    {
      "cell_type": "code",
      "execution_count": null,
      "metadata": {
        "id": "YVPwqH40Lk8_"
      },
      "outputs": [],
      "source": [
        "# Com NumPy - Versão 1\n",
        "def dsa_traco_matriz_v1(matriz):\n",
        "    return np.trace(matriz)"
      ]
    },
    {
      "cell_type": "code",
      "execution_count": null,
      "metadata": {
        "id": "YWHRok2yLk8_",
        "outputId": "8b903ef6-7042-46f6-ea25-9dff071d9296"
      },
      "outputs": [
        {
          "data": {
            "text/plain": [
              "8"
            ]
          },
          "execution_count": 31,
          "metadata": {},
          "output_type": "execute_result"
        }
      ],
      "source": [
        "dsa_traco_matriz_v1(matriz2)"
      ]
    },
    {
      "cell_type": "code",
      "execution_count": null,
      "metadata": {
        "id": "Obh411ZqLk9E"
      },
      "outputs": [],
      "source": [
        "# Sem NumPy - Versão 2 (usando generator expression ou expressão geradora)\n",
        "# As expressões geradoras são semelhantes a list comprehensions, mas em vez de criar uma lista completa\n",
        "# na memória, elas geram os itens um por um, o que é mais eficiente em termos de memória.\n",
        "def dsa_traco_matriz_v2(matriz):\n",
        "\n",
        "    if len(matriz) != len(matriz[0]):\n",
        "\n",
        "        return \"A matriz deve ser quadrada\"\n",
        "\n",
        "    soma = sum(matriz[i][i] for i in range(len(matriz)))\n",
        "\n",
        "    return soma"
      ]
    },
    {
      "cell_type": "code",
      "execution_count": null,
      "metadata": {
        "id": "8hihGwshLk9E",
        "outputId": "81ee9062-2f9f-479d-f56f-51b4f48de99d"
      },
      "outputs": [
        {
          "data": {
            "text/plain": [
              "8"
            ]
          },
          "execution_count": 33,
          "metadata": {},
          "output_type": "execute_result"
        }
      ],
      "source": [
        "dsa_traco_matriz_v2(matriz2)"
      ]
    },
    {
      "cell_type": "code",
      "execution_count": null,
      "metadata": {
        "id": "5yUT_KpALk9E"
      },
      "outputs": [],
      "source": [
        "# Sem NumPy - Versão 3 (usando apenas loop for)\n",
        "def dsa_traco_matriz_v3(matriz):\n",
        "\n",
        "    if len(matriz) != len(matriz[0]):\n",
        "\n",
        "        return \"A matriz deve ser quadrada\"\n",
        "\n",
        "    soma = 0\n",
        "\n",
        "    for i in range(len(matriz)):\n",
        "\n",
        "        print(\"Valor do Elemento na Posição\", i, i, \":\", matriz[i][i])\n",
        "\n",
        "        soma += matriz[i][i]\n",
        "\n",
        "    return soma"
      ]
    },
    {
      "cell_type": "code",
      "execution_count": null,
      "metadata": {
        "id": "6fXCuiTSLk9E",
        "outputId": "f990b564-8e27-444a-fc37-ad12eff3d20e"
      },
      "outputs": [
        {
          "name": "stdout",
          "output_type": "stream",
          "text": [
            "Valor do Elemento na Posição 0 0 : 5\n",
            "Valor do Elemento na Posição 1 1 : 1\n",
            "Valor do Elemento na Posição 2 2 : 2\n"
          ]
        },
        {
          "data": {
            "text/plain": [
              "8"
            ]
          },
          "execution_count": 35,
          "metadata": {},
          "output_type": "execute_result"
        }
      ],
      "source": [
        "dsa_traco_matriz_v3(matriz2)"
      ]
    },
    {
      "cell_type": "markdown",
      "metadata": {
        "id": "lE_88lRtLk9E"
      },
      "source": [
        "### Exercício 5: Determinante de uma Matriz (Desafio)\n",
        "\n",
        "Escreva uma função que calcula o determinante de uma matriz quadrada. Utilize a recursividade ou o método de Laplace para calcular o determinante. Apresente a solução com e sem o uso do NumPy. Pratique suas habilidades de programação ao mesmo tempo que estuda Matemática."
      ]
    },
    {
      "cell_type": "markdown",
      "metadata": {
        "id": "Hqws2DvzLk9E"
      },
      "source": [
        "O determinante de uma matriz é um valor escalar que fornece informações importantes sobre a matriz. Ele é aplicável apenas a matrizes quadradas (matrizes com o mesmo número de linhas e colunas). O determinante tem várias interpretações e aplicações na matemática, particularmente em álgebra linear, análise e geometria.\n",
        "\n",
        "Algumas das principais propriedades e interpretações do determinante são:\n",
        "\n",
        "**Interpretação Geométrica**: Para matrizes 2x2 e 3x3, o determinante pode ser interpretado como a área (para matrizes 2x2) ou o volume (para matrizes 3x3) do paralelogramo ou paralelepípedo formado pelos vetores que compõem as linhas ou colunas da matriz.\n",
        "\n",
        "**Singularidade**: Um determinante igual a zero indica que a matriz é singular (não invertível). Isso acontece quando as linhas ou colunas da matriz são linearmente dependentes, ou seja, uma linha ou coluna pode ser expressa como uma combinação linear das outras.\n",
        "\n",
        "**Transformações Lineares**: Em termos de transformações lineares, o determinante de uma matriz que representa uma transformação linear indica se a transformação preserva, inverte ou deforma o espaço. Um determinante negativo indica que a orientação foi invertida.\n",
        "\n",
        "**Solução de Sistemas Lineares**: O determinante é usado na regra de Cramer para resolver sistemas de equações lineares. Se o determinante da matriz dos coeficientes for diferente de zero, existe uma única solução para o sistema."
      ]
    },
    {
      "cell_type": "code",
      "execution_count": null,
      "metadata": {
        "id": "WeBvm35uLk9E"
      },
      "outputs": [],
      "source": [
        "# Com NumPy - Versão 1\n",
        "def dsa_determinante_v1(matriz):\n",
        "    return np.linalg.det(matriz)"
      ]
    },
    {
      "cell_type": "code",
      "execution_count": null,
      "metadata": {
        "id": "qcTf9z94Lk9E",
        "outputId": "a8c6d7c1-e482-4684-e349-6b14ddef3db0"
      },
      "outputs": [
        {
          "data": {
            "text/plain": [
              "0.9999999999999987"
            ]
          },
          "execution_count": 37,
          "metadata": {},
          "output_type": "execute_result"
        }
      ],
      "source": [
        "dsa_determinante_v1(matriz1)"
      ]
    },
    {
      "cell_type": "code",
      "execution_count": null,
      "metadata": {
        "id": "ojcXIw85Lk9E"
      },
      "outputs": [],
      "source": [
        "# Sem NumPy - Versão 2 (usando expansão de Laplace)\n",
        "def dsa_determinante_v2(matriz):\n",
        "\n",
        "    \"\"\"\n",
        "    Calcula o determinante de uma matriz quadrada usando a expansão de Laplace.\n",
        "\n",
        "    Args:\n",
        "    matriz (list of list of int/float): Matriz quadrada para a qual o determinante será calculado.\n",
        "\n",
        "    Returns:\n",
        "    int/float: Determinante da matriz.\n",
        "    \"\"\"\n",
        "\n",
        "    # Verifica se a matriz é quadrada (número de linhas igual ao número de colunas)\n",
        "    if len(matriz) != len(matriz[0]):\n",
        "        return \"A matriz deve ser quadrada\"\n",
        "\n",
        "    # Caso base para uma matriz 1x1\n",
        "    if len(matriz) == 1:\n",
        "        return matriz[0][0]\n",
        "\n",
        "    # Caso base para uma matriz 2x2\n",
        "    if len(matriz) == 2:\n",
        "        return matriz[0][0] * matriz[1][1] - matriz[0][1] * matriz[1][0]\n",
        "\n",
        "    # Inicializa o determinante como 0\n",
        "    det = 0\n",
        "\n",
        "    # Loop sobre os elementos da primeira linha\n",
        "    for c in range(len(matriz)):\n",
        "\n",
        "        # Cria uma submatriz removendo a linha atual e a coluna c\n",
        "        submatriz = [linha[:c] + linha[c+1:] for linha in matriz[1:]]\n",
        "\n",
        "        # Adiciona ao determinante o valor do elemento atual multiplicado pelo determinante\n",
        "        # da submatriz, ajustado pelo sinal (-1)^c\n",
        "        det += ((-1) ** c) * matriz[0][c] * dsa_determinante_v2(submatriz)\n",
        "        #det += ((-1) ** c) * matriz[0][c] * dsa_determinante_v1(submatriz)\n",
        "\n",
        "    return det"
      ]
    },
    {
      "cell_type": "code",
      "execution_count": null,
      "metadata": {
        "id": "VA5-NncbLk9E",
        "outputId": "24f0a252-54ae-4be1-bf80-be55610a5b2f"
      },
      "outputs": [
        {
          "data": {
            "text/plain": [
              "1"
            ]
          },
          "execution_count": 39,
          "metadata": {},
          "output_type": "execute_result"
        }
      ],
      "source": [
        "dsa_determinante_v2(matriz1)"
      ]
    },
    {
      "cell_type": "code",
      "execution_count": null,
      "metadata": {
        "id": "bV6L9dWRLk9E",
        "outputId": "37f0ae62-ffd4-4156-88b3-64ecdc195a65"
      },
      "outputs": [
        {
          "name": "stdout",
          "output_type": "stream",
          "text": [
            "Author: Data Science Academy\n",
            "\n"
          ]
        }
      ],
      "source": [
        "%reload_ext watermark\n",
        "%watermark -a \"Data Science Academy\""
      ]
    },
    {
      "cell_type": "code",
      "execution_count": null,
      "metadata": {
        "id": "Q4_wzZiuLk9E"
      },
      "outputs": [],
      "source": [
        "#%watermark -v -m"
      ]
    },
    {
      "cell_type": "code",
      "execution_count": null,
      "metadata": {
        "id": "f4kpeL5eLk9E"
      },
      "outputs": [],
      "source": [
        "#%watermark --iversions"
      ]
    },
    {
      "cell_type": "markdown",
      "metadata": {
        "id": "e4yPjrYYLk9E"
      },
      "source": [
        "# Fim"
      ]
    }
  ],
  "metadata": {
    "kernelspec": {
      "display_name": "Python 3 (ipykernel)",
      "language": "python",
      "name": "python3"
    },
    "language_info": {
      "codemirror_mode": {
        "name": "ipython",
        "version": 3
      },
      "file_extension": ".py",
      "mimetype": "text/x-python",
      "name": "python",
      "nbconvert_exporter": "python",
      "pygments_lexer": "ipython3",
      "version": "3.11.5"
    },
    "colab": {
      "provenance": [],
      "include_colab_link": true
    }
  },
  "nbformat": 4,
  "nbformat_minor": 0
}