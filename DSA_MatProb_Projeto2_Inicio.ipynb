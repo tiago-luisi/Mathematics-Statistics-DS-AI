{
  "cells": [
    {
      "cell_type": "markdown",
      "metadata": {
        "id": "view-in-github",
        "colab_type": "text"
      },
      "source": [
        "<a href=\"https://colab.research.google.com/github/tiago-luisi/Mathematics-Statistics-DS-AI/blob/main/DSA_MatProb_Projeto2_Inicio.ipynb\" target=\"_parent\"><img src=\"https://colab.research.google.com/assets/colab-badge.svg\" alt=\"Open In Colab\"/></a>"
      ]
    },
    {
      "cell_type": "markdown",
      "metadata": {
        "id": "9pQy8l3aGXru"
      },
      "source": [
        "<!-- Projeto Desenvolvido na Data Science Academy - www.datascienceacademy.com.br -->\n",
        "# <font color='white'>Data Science Academy</font>\n",
        "## <font color='white'>Matemática e Estatística Aplicada Para Data Science, Machine Learning e IA</font>\n",
        "## <font color='white'>Projeto 2</font>\n",
        "### <font color='white'>Construindo Algoritmo de Rede Neural Artificial Através de Operações com Matrizes</font>"
      ]
    },
    {
      "cell_type": "markdown",
      "metadata": {
        "id": "H7FGVry6GXrv"
      },
      "source": [
        "## Instalando e Carregando os Pacotes"
      ]
    },
    {
      "cell_type": "code",
      "execution_count": null,
      "metadata": {
        "id": "yXLlPdENGXrv"
      },
      "outputs": [],
      "source": [
        "# Para atualizar um pacote, execute o comando abaixo no terminal ou prompt de comando:\n",
        "# pip install -U nome_pacote\n",
        "\n",
        "# Para instalar a versão exata de um pacote, execute o comando abaixo no terminal ou prompt de comando:\n",
        "# !pip install nome_pacote==versão_desejada\n",
        "\n",
        "# Depois de instalar ou atualizar o pacote, reinicie o jupyter notebook.\n",
        "\n",
        "# Instala o pacote watermark.\n",
        "# Esse pacote é usado para gravar as versões de outros pacotes usados neste jupyter notebook.\n",
        "#!pip install -q -U watermark"
      ]
    },
    {
      "cell_type": "code",
      "execution_count": null,
      "metadata": {
        "id": "HSC3zhxeGXrw",
        "outputId": "0c00e325-739e-4f1e-e6e4-f5a20beea3e3"
      },
      "outputs": [
        {
          "name": "stdout",
          "output_type": "stream",
          "text": [
            "Author: Data Science Academy\n",
            "\n"
          ]
        }
      ],
      "source": [
        "# # Versões dos pacotes usados neste jupyter notebook\n",
        "# %reload_ext watermark\n",
        "# %watermark -a \"Data Science Academy\""
      ]
    },
    {
      "cell_type": "code",
      "execution_count": 1,
      "metadata": {
        "id": "-UqNasGkGXrw"
      },
      "outputs": [],
      "source": [
        "# Imports\n",
        "import numpy as np"
      ]
    },
    {
      "cell_type": "markdown",
      "metadata": {
        "id": "CtZSgfdTGXrx"
      },
      "source": [
        "## Parte 1 - Escrever o Algoritmo"
      ]
    },
    {
      "cell_type": "code",
      "execution_count": null,
      "metadata": {
        "id": "6Y02qZpeGXrx"
      },
      "outputs": [],
      "source": [
        "class AlgoritmoRNDSA:\n",
        "  def __init__(self, taxa_aprendizado, num_interacoes):\n",
        "    #inicializa os atributos\n",
        "    self.taxa_aprendizado = taxa_aprendizado\n",
        "    self.num_interacoes = num_interacoes\n",
        "    #inicializa os coefientes\n",
        "    self.pesos = None\n",
        "    self.bias = None\n",
        "\n",
        "  #metodo da funcao de ativacao sigmóide para gerar a previsão no formato que pode ser interpratado\n",
        "  def func_activation_sigmoid(self, pred):\n",
        "    sig = 1 / (1 + np.exp(-pred))\n",
        "    return sig\n",
        "  #metodo para treinar o algoritmo\n",
        "  def fit(self, X, y):\n",
        "    #inicializa os pesos e bias\n",
        "    num_registros, num_atributos = X.shape\n",
        "    self.pesos = np.zeros(num_atributos)\n",
        "    self.bias = 0 #bias é um escalar (dot product)\n",
        "\n",
        "    print('\\nTreinamento do Modelo Iniciado')\n",
        "\n",
        "    #loop para interações\n",
        "    for i in range(self.num_interacoes):\n",
        "      print('\\nTreinamento do Modelo na Iteração', i)\n",
        "      previsao = np.dot(X, self.pesos) + self.bias\n",
        "      print('Previsão antes da função de ativação', previsao)\n",
        "      previsao_final = self.func_activation_sigmoid(previsao)\n",
        "      print('Previsão depois da função de ativação', previsao_final)\n",
        "      erro = (previsao_final - y)\n",
        "      print('Erro do Modelo', erro)\n",
        "\n",
        "      dw = (1 / num_registros) * np.dot(X.T, erro)\n",
        "      db = (1 / num_registros) * np.sum(previsao_final - y)\n",
        "\n",
        "      self.pesos = self.pesos - self.taxa_aprendizado * dw\n",
        "      print('Valores de pesos', self.pesos)\n",
        "      self.bias = self.bias - self.taxa_aprendizado * db\n",
        "      print('Valores de bias', self.bias)\n",
        "\n",
        "    print('\\nTreinamento do Modelo Finalizado')\n"
      ]
    },
    {
      "cell_type": "markdown",
      "metadata": {
        "id": "sAs4J3GuGXrx"
      },
      "source": [
        "## Parte 2 - Preparar os Dados de Treino e Teste"
      ]
    },
    {
      "cell_type": "code",
      "execution_count": null,
      "metadata": {
        "id": "LSp6ZzuwGXrx"
      },
      "outputs": [],
      "source": []
    },
    {
      "cell_type": "code",
      "execution_count": null,
      "metadata": {
        "id": "P9ObJG5oGXrx"
      },
      "outputs": [],
      "source": []
    },
    {
      "cell_type": "code",
      "execution_count": null,
      "metadata": {
        "id": "2XjcX9H_GXrx"
      },
      "outputs": [],
      "source": []
    },
    {
      "cell_type": "code",
      "execution_count": null,
      "metadata": {
        "id": "eNv4rIGhGXrx"
      },
      "outputs": [],
      "source": []
    },
    {
      "cell_type": "code",
      "execution_count": null,
      "metadata": {
        "id": "065EqKPaGXrx"
      },
      "outputs": [],
      "source": []
    },
    {
      "cell_type": "code",
      "execution_count": null,
      "metadata": {
        "id": "lLhAx1T5GXrx"
      },
      "outputs": [],
      "source": []
    },
    {
      "cell_type": "code",
      "execution_count": null,
      "metadata": {
        "id": "zkBZr4voGXrx"
      },
      "outputs": [],
      "source": []
    },
    {
      "cell_type": "markdown",
      "metadata": {
        "id": "dqUx6aCJGXrx"
      },
      "source": [
        "## Parte 3 - Treinamento do Modelo"
      ]
    },
    {
      "cell_type": "code",
      "execution_count": null,
      "metadata": {
        "id": "-lqsfqjfGXrx"
      },
      "outputs": [],
      "source": []
    },
    {
      "cell_type": "code",
      "execution_count": null,
      "metadata": {
        "id": "FxHLz5ahGXrx"
      },
      "outputs": [],
      "source": []
    },
    {
      "cell_type": "code",
      "execution_count": null,
      "metadata": {
        "id": "SBDxW2sVGXrx"
      },
      "outputs": [],
      "source": []
    },
    {
      "cell_type": "markdown",
      "metadata": {
        "id": "7-IbgtdYGXrx"
      },
      "source": [
        "## Parte 4 - Avaliação do Modelo"
      ]
    },
    {
      "cell_type": "code",
      "execution_count": null,
      "metadata": {
        "id": "6a9TNBU5GXrx"
      },
      "outputs": [],
      "source": []
    },
    {
      "cell_type": "code",
      "execution_count": null,
      "metadata": {
        "id": "2LVH6LVOGXry"
      },
      "outputs": [],
      "source": []
    },
    {
      "cell_type": "code",
      "execution_count": null,
      "metadata": {
        "id": "HuswjuArGXry"
      },
      "outputs": [],
      "source": []
    },
    {
      "cell_type": "markdown",
      "metadata": {
        "id": "xt4ZtD4vGXry"
      },
      "source": [
        "## Parte 5 - Deploy do Modelo"
      ]
    },
    {
      "cell_type": "code",
      "execution_count": null,
      "metadata": {
        "id": "C9DZEH8FGXry"
      },
      "outputs": [],
      "source": []
    },
    {
      "cell_type": "code",
      "execution_count": null,
      "metadata": {
        "id": "YhOpEAqMGXry"
      },
      "outputs": [],
      "source": []
    },
    {
      "cell_type": "code",
      "execution_count": null,
      "metadata": {
        "id": "MQOAyw2PGXry"
      },
      "outputs": [],
      "source": []
    },
    {
      "cell_type": "code",
      "execution_count": null,
      "metadata": {
        "id": "TxCO5b2mGXry",
        "outputId": "360fcd9b-483b-4cb8-f95e-755a3c34e65b"
      },
      "outputs": [
        {
          "name": "stdout",
          "output_type": "stream",
          "text": [
            "Author: Data Science Academy\n",
            "\n"
          ]
        }
      ],
      "source": [
        "# %reload_ext watermark\n",
        "# %watermark -a \"Data Science Academy\""
      ]
    },
    {
      "cell_type": "code",
      "execution_count": null,
      "metadata": {
        "id": "Rp-8RMd2GXry"
      },
      "outputs": [],
      "source": [
        "#%watermark -v -m"
      ]
    },
    {
      "cell_type": "code",
      "execution_count": null,
      "metadata": {
        "id": "x1vn5KqmGXry"
      },
      "outputs": [],
      "source": [
        "#%watermark --iversions"
      ]
    },
    {
      "cell_type": "markdown",
      "metadata": {
        "id": "QGtCu84DGXry"
      },
      "source": [
        "## Fim"
      ]
    }
  ],
  "metadata": {
    "kernelspec": {
      "display_name": "Python 3 (ipykernel)",
      "language": "python",
      "name": "python3"
    },
    "language_info": {
      "codemirror_mode": {
        "name": "ipython",
        "version": 3
      },
      "file_extension": ".py",
      "mimetype": "text/x-python",
      "name": "python",
      "nbconvert_exporter": "python",
      "pygments_lexer": "ipython3",
      "version": "3.11.5"
    },
    "colab": {
      "provenance": [],
      "include_colab_link": true
    }
  },
  "nbformat": 4,
  "nbformat_minor": 0
}